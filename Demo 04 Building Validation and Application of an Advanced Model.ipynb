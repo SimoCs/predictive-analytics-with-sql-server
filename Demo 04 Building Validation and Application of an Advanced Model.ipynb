{
    "metadata": {
        "kernelspec": {
            "name": "python3",
            "display_name": "Python 3",
            "language": "python"
        },
        "language_info": {
            "name": "python",
            "version": "3.8.10",
            "mimetype": "text/x-python",
            "codemirror_mode": {
                "name": "ipython",
                "version": 3
            },
            "pygments_lexer": "ipython3",
            "nbconvert_exporter": "python",
            "file_extension": ".py"
        }
    },
    "nbformat_minor": 2,
    "nbformat": 4,
    "cells": [
        {
            "cell_type": "markdown",
            "source": [
                "# <span style=\"font-size: 28px;\"><b>Building Validation and Application of an Advanced Model</b></span>"
            ],
            "metadata": {
                "language": "python",
                "azdata_cell_guid": "5836ec50-1649-4252-9b22-0416c935dc42"
            },
            "attachments": {}
        },
        {
            "cell_type": "markdown",
            "source": [
                "## **Step 1: Set Up Environment and Connect to SQL Server**"
            ],
            "metadata": {
                "azdata_cell_guid": "07cae2f5-5878-4ac6-8009-80b7ff2e91c1"
            },
            "attachments": {}
        },
        {
            "cell_type": "code",
            "source": [
                "pip install pyodbc sqlalchemy pandas scikit-learn matplotlib seaborn"
            ],
            "metadata": {
                "azdata_cell_guid": "6164db6a-f878-4eb4-a839-ab91538ac3fc",
                "language": "python"
            },
            "outputs": [],
            "execution_count": null
        },
        {
            "cell_type": "code",
            "source": [
                "import pyodbc\r\n",
                "\r\n",
                "server = 'SQLEXPRESS'\r\n",
                "database = 'Transactions'\r\n",
                "driver= '{SQL Server}'\r\n",
                "trusted= 'yes'\r\n",
                "\r\n",
                "# Connection string\r\n",
                "conn_str = f'DRIVER={driver};SERVER={server};DATABASE={database};Trusted_Connection={trusted}'\r\n",
                "\r\n",
                "# Connect to the database\r\n",
                "conn = pyodbc.connect(conn_str)\r\n",
                "cursor = conn.cursor()"
            ],
            "metadata": {
                "language": "python",
                "azdata_cell_guid": "e90d4ae5-ad2b-41e7-bbde-03e9a8f0064d",
                "tags": []
            },
            "outputs": [],
            "execution_count": null
        },
        {
            "cell_type": "markdown",
            "source": [
                "## **Step 2: Load Data**"
            ],
            "metadata": {
                "azdata_cell_guid": "5992470d-6812-41df-89e0-67190eeb69f8"
            },
            "attachments": {}
        },
        {
            "cell_type": "code",
            "source": [
                "import pandas as pd\r\n",
                "\r\n",
                "query = '''\r\n",
                "SELECT transaction_id, customer_id, \r\n",
                "       CAST(date AS DATE) as date, \r\n",
                "       CAST(time AS TIME) as time, \r\n",
                "       product_name, category, quantity, price\r\n",
                "FROM [Transactions].[dbo].[Transactions]\r\n",
                "'''\r\n",
                "\r\n",
                "df = pd.read_sql_query(query, conn)"
            ],
            "metadata": {
                "azdata_cell_guid": "d90f2d3f-d47e-4df3-974c-f4718824e580",
                "language": "python"
            },
            "outputs": [],
            "execution_count": null
        },
        {
            "cell_type": "markdown",
            "source": [
                "## **Step 3: Preprocess the Data**"
            ],
            "metadata": {
                "language": "python",
                "azdata_cell_guid": "3a366580-ae10-43e1-bb17-5b6da796c900"
            },
            "attachments": {}
        },
        {
            "cell_type": "code",
            "source": [
                "# Convert date and time into datetime and extract useful features\r\n",
                "df['datetime'] = pd.to_datetime(df['date'] + ' ' + df['time'])\r\n",
                "df['day_of_week'] = df['datetime'].dt.dayofweek\r\n",
                "df['hour'] = df['datetime'].dt.hour\r\n",
                "\r\n",
                "# Now drop the original date, time, and datetime columns as they are no longer needed directly\r\n",
                "X = df.drop(['transaction_id', 'price', 'date', 'time', 'datetime'], axis=1)\r\n",
                "y = df['price']\r\n",
                "\r\n",
                "# Update categorical_features to include or exclude newly created features based on your preference\r\n",
                "categorical_features = ['customer_id', 'product_name', 'category', 'day_of_week']\r\n",
                "# Assuming hour might be treated as a categorical feature for simplicity; convert it if needed\r\n",
                "X['hour'] = X['hour'].astype(str)\r\n",
                "\r\n",
                "# Preprocessing for categorical variables\r\n",
                "categorical_transformer = Pipeline(steps=[\r\n",
                "    ('imputer', SimpleImputer(strategy='constant', fill_value='missing')),\r\n",
                "    ('onehot', OneHotEncoder(handle_unknown='ignore'))\r\n",
                "])\r\n",
                "\r\n",
                "# Combine preprocessing steps\r\n",
                "preprocessor = ColumnTransformer(\r\n",
                "    transformers=[\r\n",
                "        ('cat', categorical_transformer, categorical_features)\r\n",
                "    ],\r\n",
                "    remainder='passthrough')"
            ],
            "metadata": {
                "language": "python",
                "azdata_cell_guid": "529ddf86-5b6e-43e9-997b-3eb718566abd"
            },
            "outputs": [],
            "execution_count": 29
        },
        {
            "cell_type": "markdown",
            "source": [
                "## **Step 4: Define and Train the Model**"
            ],
            "metadata": {
                "language": "python",
                "azdata_cell_guid": "afef9e5a-08e9-4466-905b-7042af5efa97"
            },
            "attachments": {}
        },
        {
            "cell_type": "code",
            "source": [
                "# Define the model pipeline\r\n",
                "model = Pipeline(steps=[\r\n",
                "    ('preprocessor', preprocessor),\r\n",
                "    ('regressor', GradientBoostingRegressor(n_estimators=100, learning_rate=0.1, max_depth=3, random_state=44))\r\n",
                "])\r\n",
                "\r\n",
                "# Splitting data into training and testing sets\r\n",
                "X_train, X_test, y_train, y_test = train_test_split(X, y, test_size=0.2, random_state=44)\r\n",
                "\r\n",
                "# Train the model\r\n",
                "model.fit(X_train, y_train)"
            ],
            "metadata": {
                "language": "python",
                "azdata_cell_guid": "4bd0021a-9e19-40ee-abd4-336a1e38d537"
            },
            "outputs": [],
            "execution_count": null
        },
        {
            "cell_type": "markdown",
            "source": [
                "## **Step 5: Make Predictions and Evaluate the Model**"
            ],
            "metadata": {
                "language": "python",
                "azdata_cell_guid": "ab967dbe-51c0-44a2-97e7-bfa9f4a6d6f3"
            },
            "attachments": {}
        },
        {
            "cell_type": "code",
            "source": [
                "# Make predictions and evaluate the model\r\n",
                "predictions = model.predict(X_test)\r\n",
                "mse = mean_squared_error(y_test, predictions)\r\n",
                "print(f\"Mean Squared Error: {mse}\")"
            ],
            "metadata": {
                "language": "python",
                "azdata_cell_guid": "2725db6b-5aca-4581-a7e0-e3743f67c448"
            },
            "outputs": [
                {
                    "output_type": "stream",
                    "name": "stdout",
                    "text": "Mean Squared Error: 6296.607285747054\n"
                }
            ],
            "execution_count": 31
        },
        {
            "cell_type": "markdown",
            "source": [
                "## **Step 6: Visualization of Model Performance**"
            ],
            "metadata": {
                "language": "python",
                "azdata_cell_guid": "66d5b670-df7f-4625-b6bd-2cd5b5cfcfbb"
            },
            "attachments": {}
        },
        {
            "cell_type": "code",
            "source": [
                "# Visualization of actual vs. predicted prices\r\n",
                "plt.figure(figsize=(10, 6))\r\n",
                "plt.scatter(y_test, predictions, alpha=0.6)\r\n",
                "plt.plot([y.min(), y.max()], [y.min(), y.max()], 'k--', lw=2)\r\n",
                "plt.xlabel('Actual Price')\r\n",
                "plt.ylabel('Predicted Price')\r\n",
                "plt.title('Actual vs. Predicted Price')\r\n",
                "plt.show()"
            ],
            "metadata": {
                "language": "python",
                "azdata_cell_guid": "29480b18-3b83-4dee-a89c-e1a6094f5c77"
            },
            "outputs": [
                {
                    "output_type": "display_data",
                    "data": {
                        "text/plain": "<Figure size 720x432 with 1 Axes>",
                        "image/png": "[encoded data removed]"
                    },
                    "metadata": {
                        "needs_background": "light"
                    }
                }
            ],
            "execution_count": 32
        },
        {
            "cell_type": "markdown",
            "source": [
                "## **Step 7: Display Predictions**"
            ],
            "metadata": {
                "language": "python",
                "azdata_cell_guid": "d14fde1e-31af-4748-9413-07790a21836a"
            },
            "attachments": {}
        },
        {
            "cell_type": "code",
            "source": [
                "# Sales predictions\r\n",
                "print(\"Sales Predictions:\")\r\n",
                "for i in range(5):\r\n",
                "    print(f\"Sample {i+1}: Actual Price: {y_test.iloc[i]}, Predicted Price: {predictions[i]:.2f}\")"
            ],
            "metadata": {
                "language": "python",
                "azdata_cell_guid": "e6886f48-5352-478d-984d-8961e102e514"
            },
            "outputs": [
                {
                    "output_type": "stream",
                    "name": "stdout",
                    "text": "Sales Predictions:\nSample 1: Actual Price: 39.9900016784668, Predicted Price: 39.99\nSample 2: Actual Price: 39.9900016784668, Predicted Price: 39.99\nSample 3: Actual Price: 699.989990234375, Predicted Price: 699.98\nSample 4: Actual Price: 29.989999771118164, Predicted Price: 29.99\nSample 5: Actual Price: 39.9900016784668, Predicted Price: 39.99\n"
                }
            ],
            "execution_count": 33
        }
    ]
}
