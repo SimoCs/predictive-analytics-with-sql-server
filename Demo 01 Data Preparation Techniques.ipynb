{
    "metadata": {
        "kernelspec": {
            "name": "python3",
            "display_name": "Python 3",
            "language": "python"
        },
        "language_info": {
            "name": "python",
            "version": "3.8.10",
            "mimetype": "text/x-python",
            "codemirror_mode": {
                "name": "ipython",
                "version": 3
            },
            "pygments_lexer": "ipython3",
            "nbconvert_exporter": "python",
            "file_extension": ".py"
        }
    },
    "nbformat_minor": 2,
    "nbformat": 4,
    "cells": [
        {
            "cell_type": "markdown",
            "source": [
                "# **Data Preparation Techniques**"
            ],
            "metadata": {
                "azdata_cell_guid": "4c31b4a6-2549-45b0-9890-81b544aa7672"
            },
            "attachments": {}
        },
        {
            "cell_type": "markdown",
            "source": [
                "## **Step 1: Setup Python Packages**"
            ],
            "metadata": {
                "azdata_cell_guid": "618f8690-7672-4d20-945b-b6a61b7ec594"
            },
            "attachments": {}
        },
        {
            "cell_type": "code",
            "source": [
                "pip install pandas pyodbc scikit-learn"
            ],
            "metadata": {
                "azdata_cell_guid": "64204386-d41f-4601-b6a8-634d414f99c3",
                "language": "python"
            },
            "outputs": [],
            "execution_count": null
        },
        {
            "cell_type": "code",
            "source": [
                "import pandas as pd\r\n",
                "import pyodbc\r\n",
                "from sklearn.preprocessing import StandardScaler"
            ],
            "metadata": {
                "azdata_cell_guid": "bbe39fd0-ce51-4453-8300-c9a035281bcd",
                "language": "python",
                "tags": []
            },
            "outputs": [],
            "execution_count": null
        },
        {
            "cell_type": "markdown",
            "source": [
                "## **Step 2:** **Connect to the Database**"
            ],
            "metadata": {
                "azdata_cell_guid": "1fecfbf8-420e-42fc-9b38-a0e0b259891c"
            },
            "attachments": {}
        },
        {
            "cell_type": "code",
            "source": [
                "server = 'SQLEXPRESS'\r\n",
                "database = 'Transactions'\r\n",
                "driver= '{SQL Server}'\r\n",
                "trusted= 'yes'\r\n",
                "\r\n",
                "# Connection string\r\n",
                "conn_str = f'DRIVER={driver};SERVER={server};DATABASE={database};Trusted_Connection={trusted}'\r\n",
                "\r\n",
                "# Connect to the database\r\n",
                "conn = pyodbc.connect(conn_str)\r\n",
                "cursor = conn.cursor()"
            ],
            "metadata": {
                "azdata_cell_guid": "3123c71f-c5b2-4c7c-9eaa-12b3c5f2dd63",
                "language": "python",
                "tags": []
            },
            "outputs": [],
            "execution_count": null
        },
        {
            "cell_type": "markdown",
            "source": [
                "## **Step 3:** **Reading the Data into a DataFrame**"
            ],
            "metadata": {
                "azdata_cell_guid": "cd2906f2-4ea2-446e-b3c2-9aad8bb81e67"
            },
            "attachments": {}
        },
        {
            "cell_type": "code",
            "source": [
                "query = '''\r\n",
                "SELECT transaction_id, customer_id, \r\n",
                "       CAST(date AS DATE) as date, \r\n",
                "       CAST(time AS TIME) as time, \r\n",
                "       product_name, category, quantity, price\r\n",
                "FROM [Transactions].[dbo].[Transactions]\r\n",
                "'''\r\n",
                "df = pd.read_sql_query(query, conn)"
            ],
            "metadata": {
                "azdata_cell_guid": "0e1a18e1-2dc4-4fd4-ba84-8e12ab40b22b",
                "language": "python",
                "tags": []
            },
            "outputs": [],
            "execution_count": null
        },
        {
            "cell_type": "code",
            "source": [
                "df.head()"
            ],
            "metadata": {
                "language": "python",
                "azdata_cell_guid": "85b57d95-c419-42fc-afec-360e6deab894"
            },
            "outputs": [
                {
                    "output_type": "execute_result",
                    "execution_count": 6,
                    "data": {
                        "text/plain": "   transaction_id customer_id        date              time product_name  \\\n0               1       C1001  2023-01-01  09:12:34.0000000        Shirt   \n1               2       C1002  2023-01-01  10:25:17.0000000   Headphones   \n2               3       C1003  2023-01-02  13:45:52.0000000         Book   \n3               4       C1004  2023-01-03  16:38:21.0000000        Shoes   \n4               5       C1005  2023-01-03  17:55:43.0000000           TV   \n\n      category  quantity       price  \n0      Apparel         2   29.990000  \n1  Electronics         1   59.990002  \n2        Books         3   12.990000  \n3      Apparel         1   49.990002  \n4  Electronics         1  399.989990  ",
                        "text/html": "<div>\n<style scoped>\n    .dataframe tbody tr th:only-of-type {\n        vertical-align: middle;\n    }\n\n    .dataframe tbody tr th {\n        vertical-align: top;\n    }\n\n    .dataframe thead th {\n        text-align: right;\n    }\n</style>\n<table border=\"1\" class=\"dataframe\">\n  <thead>\n    <tr style=\"text-align: right;\">\n      <th></th>\n      <th>transaction_id</th>\n      <th>customer_id</th>\n      <th>date</th>\n      <th>time</th>\n      <th>product_name</th>\n      <th>category</th>\n      <th>quantity</th>\n      <th>price</th>\n    </tr>\n  </thead>\n  <tbody>\n    <tr>\n      <th>0</th>\n      <td>1</td>\n      <td>C1001</td>\n      <td>2023-01-01</td>\n      <td>09:12:34.0000000</td>\n      <td>Shirt</td>\n      <td>Apparel</td>\n      <td>2</td>\n      <td>29.990000</td>\n    </tr>\n    <tr>\n      <th>1</th>\n      <td>2</td>\n      <td>C1002</td>\n      <td>2023-01-01</td>\n      <td>10:25:17.0000000</td>\n      <td>Headphones</td>\n      <td>Electronics</td>\n      <td>1</td>\n      <td>59.990002</td>\n    </tr>\n    <tr>\n      <th>2</th>\n      <td>3</td>\n      <td>C1003</td>\n      <td>2023-01-02</td>\n      <td>13:45:52.0000000</td>\n      <td>Book</td>\n      <td>Books</td>\n      <td>3</td>\n      <td>12.990000</td>\n    </tr>\n    <tr>\n      <th>3</th>\n      <td>4</td>\n      <td>C1004</td>\n      <td>2023-01-03</td>\n      <td>16:38:21.0000000</td>\n      <td>Shoes</td>\n      <td>Apparel</td>\n      <td>1</td>\n      <td>49.990002</td>\n    </tr>\n    <tr>\n      <th>4</th>\n      <td>5</td>\n      <td>C1005</td>\n      <td>2023-01-03</td>\n      <td>17:55:43.0000000</td>\n      <td>TV</td>\n      <td>Electronics</td>\n      <td>1</td>\n      <td>399.989990</td>\n    </tr>\n  </tbody>\n</table>\n</div>"
                    },
                    "metadata": {}
                }
            ],
            "execution_count": 6
        },
        {
            "cell_type": "markdown",
            "source": [
                "## **Step 4:** **Create a Single Datetime Column**"
            ],
            "metadata": {
                "azdata_cell_guid": "7e14ac94-409d-4df7-9d84-6bd5cca72e2a"
            },
            "attachments": {}
        },
        {
            "cell_type": "code",
            "source": [
                "df['datetime'] = pd.to_datetime(df['date'].astype(str) + ' ' + df['time'].astype(str))\r\n",
                "df.set_index('datetime', inplace=True)"
            ],
            "metadata": {
                "language": "python",
                "azdata_cell_guid": "130600eb-85be-4072-a15c-d7148d83281b"
            },
            "outputs": [],
            "execution_count": null
        },
        {
            "cell_type": "code",
            "source": [
                "df.head()"
            ],
            "metadata": {
                "language": "python",
                "azdata_cell_guid": "e99b7c65-8705-4c88-a86e-babea8aab016"
            },
            "outputs": [
                {
                    "output_type": "execute_result",
                    "execution_count": 8,
                    "data": {
                        "text/plain": "                     transaction_id customer_id        date              time  \\\ndatetime                                                                        \n2023-01-01 09:12:34               1       C1001  2023-01-01  09:12:34.0000000   \n2023-01-01 10:25:17               2       C1002  2023-01-01  10:25:17.0000000   \n2023-01-02 13:45:52               3       C1003  2023-01-02  13:45:52.0000000   \n2023-01-03 16:38:21               4       C1004  2023-01-03  16:38:21.0000000   \n2023-01-03 17:55:43               5       C1005  2023-01-03  17:55:43.0000000   \n\n                    product_name     category  quantity       price  \ndatetime                                                             \n2023-01-01 09:12:34        Shirt      Apparel         2   29.990000  \n2023-01-01 10:25:17   Headphones  Electronics         1   59.990002  \n2023-01-02 13:45:52         Book        Books         3   12.990000  \n2023-01-03 16:38:21        Shoes      Apparel         1   49.990002  \n2023-01-03 17:55:43           TV  Electronics         1  399.989990  ",
                        "text/html": "<div>\n<style scoped>\n    .dataframe tbody tr th:only-of-type {\n        vertical-align: middle;\n    }\n\n    .dataframe tbody tr th {\n        vertical-align: top;\n    }\n\n    .dataframe thead th {\n        text-align: right;\n    }\n</style>\n<table border=\"1\" class=\"dataframe\">\n  <thead>\n    <tr style=\"text-align: right;\">\n      <th></th>\n      <th>transaction_id</th>\n      <th>customer_id</th>\n      <th>date</th>\n      <th>time</th>\n      <th>product_name</th>\n      <th>category</th>\n      <th>quantity</th>\n      <th>price</th>\n    </tr>\n    <tr>\n      <th>datetime</th>\n      <th></th>\n      <th></th>\n      <th></th>\n      <th></th>\n      <th></th>\n      <th></th>\n      <th></th>\n      <th></th>\n    </tr>\n  </thead>\n  <tbody>\n    <tr>\n      <th>2023-01-01 09:12:34</th>\n      <td>1</td>\n      <td>C1001</td>\n      <td>2023-01-01</td>\n      <td>09:12:34.0000000</td>\n      <td>Shirt</td>\n      <td>Apparel</td>\n      <td>2</td>\n      <td>29.990000</td>\n    </tr>\n    <tr>\n      <th>2023-01-01 10:25:17</th>\n      <td>2</td>\n      <td>C1002</td>\n      <td>2023-01-01</td>\n      <td>10:25:17.0000000</td>\n      <td>Headphones</td>\n      <td>Electronics</td>\n      <td>1</td>\n      <td>59.990002</td>\n    </tr>\n    <tr>\n      <th>2023-01-02 13:45:52</th>\n      <td>3</td>\n      <td>C1003</td>\n      <td>2023-01-02</td>\n      <td>13:45:52.0000000</td>\n      <td>Book</td>\n      <td>Books</td>\n      <td>3</td>\n      <td>12.990000</td>\n    </tr>\n    <tr>\n      <th>2023-01-03 16:38:21</th>\n      <td>4</td>\n      <td>C1004</td>\n      <td>2023-01-03</td>\n      <td>16:38:21.0000000</td>\n      <td>Shoes</td>\n      <td>Apparel</td>\n      <td>1</td>\n      <td>49.990002</td>\n    </tr>\n    <tr>\n      <th>2023-01-03 17:55:43</th>\n      <td>5</td>\n      <td>C1005</td>\n      <td>2023-01-03</td>\n      <td>17:55:43.0000000</td>\n      <td>TV</td>\n      <td>Electronics</td>\n      <td>1</td>\n      <td>399.989990</td>\n    </tr>\n  </tbody>\n</table>\n</div>"
                    },
                    "metadata": {}
                }
            ],
            "execution_count": 8
        },
        {
            "cell_type": "markdown",
            "source": [
                "## **Step 5:** **Preprocessing and Feature Engineering**"
            ],
            "metadata": {
                "azdata_cell_guid": "f9a708b2-3590-4038-8b9f-6f0cd1847cc0"
            },
            "attachments": {}
        },
        {
            "cell_type": "code",
            "source": [
                "# Creating lag features\r\n",
                "df['price_lag1'] = df['price'].shift(1)\r\n",
                "\r\n",
                "# Extracting date-time features\r\n",
                "df['day_of_week'] = df.index.dayofweek\r\n",
                "df['month'] = df.index.month\r\n",
                "\r\n",
                "# Creating rolling window features\r\n",
                "df['rolling_mean_7'] = df['price'].rolling(window=7).mean()\r\n",
                "df['rolling_std_7'] = df['price'].rolling(window=7).std()\r\n",
                "\r\n",
                "# Handling missing values\r\n",
                "df.fillna(method='ffill', inplace=True)"
            ],
            "metadata": {
                "language": "python",
                "azdata_cell_guid": "d7168792-3625-4fac-bb44-9ef85c397826"
            },
            "outputs": [],
            "execution_count": null
        },
        {
            "cell_type": "markdown",
            "source": [
                "## **Step 6:** **Splitting the Dataset**"
            ],
            "metadata": {
                "azdata_cell_guid": "12fba1d1-bd4f-40ae-8659-f311749028a0"
            },
            "attachments": {}
        },
        {
            "cell_type": "code",
            "source": [
                "split_idx = int(len(df) * 0.8)\r\n",
                "train, test = df[:split_idx], df[split_idx:]"
            ],
            "metadata": {
                "azdata_cell_guid": "eac7be76-de73-452b-a666-f730345a03f9",
                "language": "python"
            },
            "outputs": [],
            "execution_count": null
        },
        {
            "cell_type": "markdown",
            "source": [
                "## **Step 7:** **Standardization**"
            ],
            "metadata": {
                "azdata_cell_guid": "9f3059ab-04f0-4578-9191-ccd2254090c7"
            },
            "attachments": {}
        },
        {
            "cell_type": "code",
            "source": [
                "features = ['price_lag1', 'rolling_mean_7', 'rolling_std_7', 'day_of_week', 'month']\r\n",
                "\r\n",
                "scaler = StandardScaler()\r\n",
                "train_scaled = scaler.fit_transform(train[features])\r\n",
                "test_scaled = scaler.transform(test[features])"
            ],
            "metadata": {
                "azdata_cell_guid": "f5f73668-2c3b-4242-a000-c76fbb6f3db4",
                "language": "python",
                "tags": []
            },
            "outputs": [],
            "execution_count": null
        }
    ]
}