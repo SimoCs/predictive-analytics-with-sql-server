{
    "metadata": {
        "kernelspec": {
            "name": "python3",
            "display_name": "Python 3",
            "language": "python"
        },
        "language_info": {
            "name": "python",
            "version": "3.8.10",
            "mimetype": "text/x-python",
            "codemirror_mode": {
                "name": "ipython",
                "version": 3
            },
            "pygments_lexer": "ipython3",
            "nbconvert_exporter": "python",
            "file_extension": ".py"
        }
    },
    "nbformat_minor": 2,
    "nbformat": 4,
    "cells": [
        {
            "cell_type": "markdown",
            "source": [
                "# <span style=\"font-size: 28px;\"><b>Constructing a Basic Predictive Model</b></span>"
            ],
            "metadata": {
                "azdata_cell_guid": "4c31b4a6-2549-45b0-9890-81b544aa7672"
            },
            "attachments": {}
        },
        {
            "cell_type": "markdown",
            "source": [
                "## **Step 1: Load the Dataset**"
            ],
            "metadata": {
                "azdata_cell_guid": "618f8690-7672-4d20-945b-b6a61b7ec594"
            },
            "attachments": {}
        },
        {
            "cell_type": "code",
            "source": [
                "pip install pandas pyodbc scikit-learn numpy"
            ],
            "metadata": {
                "azdata_cell_guid": "5e97a71d-b767-4e1b-9872-ecb957cecc12",
                "language": "python"
            },
            "outputs": [],
            "execution_count": null
        },
        {
            "cell_type": "code",
            "source": [
                "import pandas as pd\r\n",
                "import pyodbc\r\n",
                "\r\n",
                "server = 'SQLEXPRESS'\r\n",
                "database = 'Transactions'\r\n",
                "driver= '{SQL Server}'\r\n",
                "trusted= 'yes'\r\n",
                "\r\n",
                "# Connection string\r\n",
                "conn_str = f'DRIVER={driver};SERVER={server};DATABASE={database};Trusted_Connection={trusted}'\r\n",
                "\r\n",
                "# Connect to the database\r\n",
                "conn = pyodbc.connect(conn_str)\r\n",
                "cursor = conn.cursor()\r\n",
                "\r\n",
                "query = '''\r\n",
                "SELECT transaction_id, customer_id, \r\n",
                "       CAST(date AS DATE) as date, \r\n",
                "       CAST(time AS TIME) as time, \r\n",
                "       product_name, category, quantity, price\r\n",
                "FROM [Transactions].[dbo].[Transactions]\r\n",
                "'''\r\n",
                "df = pd.read_sql_query(query, conn)\r\n",
                "\r\n",
                "df['datetime'] = pd.to_datetime(df['date'].astype(str) + ' ' + df['time'].astype(str))\r\n",
                "df.set_index('datetime', inplace=True)\r\n",
                "\r\n",
                "# Creating lag features\r\n",
                "df['price_lag1'] = df['price'].shift(1)\r\n",
                "\r\n",
                "# Extracting date-time features\r\n",
                "df['day_of_week'] = df.index.dayofweek\r\n",
                "df['month'] = df.index.month\r\n",
                "\r\n",
                "# Creating rolling window features\r\n",
                "df['rolling_mean_7'] = df['price'].rolling(window=7).mean()\r\n",
                "df['rolling_std_7'] = df['price'].rolling(window=7).std()\r\n",
                "\r\n",
                "# Handling missing values\r\n",
                "df.dropna(inplace=True)"
            ],
            "metadata": {
                "azdata_cell_guid": "02359e8f-0119-4200-95f8-f028cd0390eb",
                "language": "python",
                "tags": []
            },
            "outputs": [],
            "execution_count": null
        },
        {
            "cell_type": "markdown",
            "source": [
                "## **Step 2:** **Feature Engineering and Standardization**"
            ],
            "metadata": {
                "azdata_cell_guid": "6cc35aa7-d50c-4177-a9ee-cbc22b4acfab"
            },
            "attachments": {}
        },
        {
            "cell_type": "code",
            "source": [
                "from sklearn.preprocessing import StandardScaler\r\n",
                "\r\n",
                "features = ['price_lag1', 'rolling_mean_7', 'rolling_std_7', 'day_of_week', 'month']\r\n",
                "\r\n",
                "X = df[features]  # Extracting the features from the DataFrame\r\n",
                "y = df['price']  # Price is your target column\r\n",
                "\r\n",
                "# Initialize the StandardScaler\r\n",
                "scaler = StandardScaler()\r\n",
                "\r\n",
                "# Fit the scaler to your data and transform it\r\n",
                "X_scaled = scaler.fit_transform(X)"
            ],
            "metadata": {
                "language": "python",
                "azdata_cell_guid": "b924d007-2b1a-4807-972d-aa8d2977989b"
            },
            "outputs": [],
            "execution_count": null
        },
        {
            "cell_type": "markdown",
            "source": [
                "## **Step 3:** **Split the Data into Training and Testing Sets**"
            ],
            "metadata": {
                "azdata_cell_guid": "43358d93-2104-4581-a595-6f5e3fb56f15"
            },
            "attachments": {}
        },
        {
            "cell_type": "code",
            "source": [
                "from sklearn.model_selection import train_test_split\r\n",
                "\r\n",
                "X_train, X_test, y_train, y_test = train_test_split(X_scaled, y, test_size=0.2, random_state=44)"
            ],
            "metadata": {
                "azdata_cell_guid": "5174f583-f57a-4848-ab13-46de21a3eb8d",
                "language": "python"
            },
            "outputs": [],
            "execution_count": null
        },
        {
            "cell_type": "markdown",
            "source": [
                "## **Step 4:** **Model Selection**"
            ],
            "metadata": {
                "language": "python",
                "azdata_cell_guid": "321069d8-3856-4862-9e2d-11dba5e5f532"
            },
            "attachments": {}
        },
        {
            "cell_type": "code",
            "source": [
                "from sklearn.linear_model import LinearRegression\r\n",
                "\r\n",
                "model = LinearRegression()"
            ],
            "metadata": {
                "language": "python",
                "azdata_cell_guid": "2fd2abcd-426e-47c5-b86b-fd93c0b700a8",
                "tags": []
            },
            "outputs": [],
            "execution_count": null
        },
        {
            "cell_type": "markdown",
            "source": [
                "## **Step 5:** **Training the Model**"
            ],
            "metadata": {
                "language": "python",
                "azdata_cell_guid": "0e655078-64ce-4605-920a-7c49c96877a6"
            },
            "attachments": {}
        },
        {
            "cell_type": "code",
            "source": [
                "model.fit(X_train, y_train)"
            ],
            "metadata": {
                "language": "python",
                "azdata_cell_guid": "4a89bc3c-0c91-456c-b80c-ea1e889c2f85"
            },
            "outputs": [],
            "execution_count": null
        },
        {
            "cell_type": "markdown",
            "source": [
                "## **Step 6:** **Making Predictions**"
            ],
            "metadata": {
                "language": "python",
                "azdata_cell_guid": "cb7894bf-0845-4362-ae2c-b2f7f01c0c12"
            },
            "attachments": {}
        },
        {
            "cell_type": "code",
            "source": [
                "predictions = model.predict(X_test)"
            ],
            "metadata": {
                "language": "python",
                "azdata_cell_guid": "725ef2bc-2cf2-4bed-8366-3a786947ebd8"
            },
            "outputs": [],
            "execution_count": null
        },
        {
            "cell_type": "markdown",
            "source": [
                "## **Step 7:** **Evaluating the Model**"
            ],
            "metadata": {
                "azdata_cell_guid": "c26abd91-9c26-4b05-83e0-5eebef8ac8bb"
            },
            "attachments": {}
        },
        {
            "cell_type": "code",
            "source": [
                "from sklearn.metrics import mean_absolute_error, mean_squared_error, r2_score\r\n",
                "\r\n",
                "print(f\"MAE: {mean_absolute_error(y_test, predictions)}\")\r\n",
                "print(f\"MSE: {mean_squared_error(y_test, predictions)}\")\r\n",
                "print(f\"R^2: {r2_score(y_test, predictions)}\")"
            ],
            "metadata": {
                "language": "python",
                "azdata_cell_guid": "451921e8-a8fa-4b46-9830-46b05d85b68d"
            },
            "outputs": [
                {
                    "output_type": "stream",
                    "name": "stdout",
                    "text": "MAE: 121.68773956797087\nMSE: 35005.128442713525\nR^2: 0.40510710247653503\n"
                }
            ],
            "execution_count": 10
        },
        {
            "cell_type": "markdown",
            "source": [
                "## **Step 8:** **Model Interpretation**"
            ],
            "metadata": {
                "language": "python",
                "azdata_cell_guid": "7dea2765-f1fb-4024-8b75-d43eb6045523"
            },
            "attachments": {}
        },
        {
            "cell_type": "code",
            "source": [
                "print(f\"Coefficients: {model.coef_}\")"
            ],
            "metadata": {
                "language": "python",
                "azdata_cell_guid": "8dad7b5a-cf21-4284-b941-35440969dce6"
            },
            "outputs": [
                {
                    "output_type": "stream",
                    "name": "stdout",
                    "text": "Coefficients: [-85.09255101   2.76980393 198.99045319 -17.71906835  -9.43592015]\n"
                }
            ],
            "execution_count": 11
        }
    ]
}